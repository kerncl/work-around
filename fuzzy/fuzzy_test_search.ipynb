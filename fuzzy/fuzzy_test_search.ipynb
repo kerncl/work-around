{
 "cells": [
  {
   "cell_type": "code",
   "execution_count": 1,
   "metadata": {},
   "outputs": [],
   "source": [
    "# Import lib\n",
    "import pandas as pd\n",
    "import numpy as np\n",
    "from timeit import default_timer as timer\n",
    "from functools import wraps\n",
    "from fuzzywuzzy import fuzz as f_fuzz, process as f_process\n",
    "from rapidfuzz import fuzz as r_fuzz, process as r_process\n",
    "import Levenshtein\n",
    "import ipywidgets\n"
   ]
  },
  {
   "cell_type": "code",
   "execution_count": 2,
   "metadata": {},
   "outputs": [],
   "source": [
    "def print_timing(f):\n",
    "    @wraps(f)\n",
    "    def timeit(*args, **kwargs):\n",
    "        t0 = timer()\n",
    "        try:\n",
    "            return f(*args, **kwargs)\n",
    "        finally:\n",
    "            print(f'\\n{f.__name__} finised in {1e3*(timer()-t0):.1f}ms')\n",
    "        return timeit"
   ]
  },
  {
   "cell_type": "code",
   "execution_count": 3,
   "metadata": {},
   "outputs": [
    {
     "data": {
      "application/vnd.jupyter.widget-view+json": {
       "model_id": "8cd7d55f03d740c8b0eca9ac2eaaebc1",
       "version_major": 2,
       "version_minor": 0
      },
      "text/plain": [
       "interactive(children=(Text(value='', description='input_text'), Output()), _dom_classes=('widget-interact',))"
      ]
     },
     "metadata": {},
     "output_type": "display_data"
    }
   ],
   "source": [
    "df = pd.read_csv('Index_of_Place_Names_in_Great_Britain_(July_2016).csv')\n",
    "cities = df['place15nm'].unique()\n",
    "\n",
    "@print_timing\n",
    "@ipywidgets.interact(input_text='')\n",
    "def interact_cities(input_text):\n",
    "    if not input_text: return\n",
    "    for city, score, _ in f_process.extract(input_text, cities, limit=10):\n",
    "        print(f'{city:60}{score:3.2f}')\n",
    "\n",
    "# ipywidgets.interact(interact_cities, input_text='')"
   ]
  },
  {
   "cell_type": "code",
   "execution_count": 4,
   "metadata": {},
   "outputs": [
    {
     "data": {
      "text/plain": [
       "87"
      ]
     },
     "execution_count": 4,
     "metadata": {},
     "output_type": "execute_result"
    }
   ],
   "source": [
    "f_fuzz.ratio('Tokyo and Oaska', 'Tokio and Osaka')"
   ]
  },
  {
   "cell_type": "code",
   "execution_count": 5,
   "metadata": {},
   "outputs": [
    {
     "data": {
      "text/plain": [
       "[('knight', 100),\n",
       " ('nigh', 90),\n",
       " ('knighthood', 90),\n",
       " ('knuth', 55),\n",
       " ('ignite', 50)]"
      ]
     },
     "execution_count": 5,
     "metadata": {},
     "output_type": "execute_result"
    }
   ],
   "source": [
    "words = ['knight', 'knuth', 'nigh', 'ignite', 'knighthood', 'knead', 'the']\n",
    "f_process.extract('knight', words)"
   ]
  },
  {
   "cell_type": "markdown",
   "metadata": {},
   "source": [
    "### Levenshtein distance with DP (Wagner-Fischer)"
   ]
  },
  {
   "cell_type": "code",
   "execution_count": 6,
   "metadata": {},
   "outputs": [],
   "source": [
    "def levenshtein_distance(a: str, b:str, verbose:bool=False) -> int:\n",
    "    m, n = len(a), len(b)\n",
    "    d = np.zeros((m+1, n+1), dtype=int)\n",
    "\n",
    "    for i in range(m+1): d[i,0] = i\n",
    "    for i in range(n+1): d[0,i] = i\n",
    "\n",
    "\n",
    "    for j in range(1, n+1):\n",
    "        for i in range(1, m+1):\n",
    "            cost = 1 if a[i-1] != b[j-1] else 0\n",
    "            d[i,j] = min(d[i-1, j-1] + cost,     # subsitute \n",
    "                         d[i, j-1] + 1,          # delete from B (horizontal)\n",
    "                         d[i-1, j] + 1)          # insert into B (vertical)\n",
    "\n",
    "    if verbose: print(d)\n",
    "    return d[m,n]"
   ]
  },
  {
   "cell_type": "code",
   "execution_count": 7,
   "metadata": {},
   "outputs": [
    {
     "name": "stdout",
     "output_type": "stream",
     "text": [
      "[[0 1 2 3 4 5 6 7]\n",
      " [1 1 2 3 4 4 5 6]\n",
      " [2 2 2 3 4 5 4 5]\n",
      " [3 3 3 3 4 5 5 4]]\n"
     ]
    },
    {
     "data": {
      "text/plain": [
       "4"
      ]
     },
     "execution_count": 7,
     "metadata": {},
     "output_type": "execute_result"
    }
   ],
   "source": [
    "d = levenshtein_distance('cat', 'wildcat', verbose=True)\n",
    "d"
   ]
  },
  {
   "cell_type": "markdown",
   "metadata": {},
   "source": [
    "### Comparison of Levenshtein algorithm speed"
   ]
  },
  {
   "cell_type": "code",
   "execution_count": 8,
   "metadata": {},
   "outputs": [
    {
     "name": "stdout",
     "output_type": "stream",
     "text": [
      "487 ns ± 51 ns per loop (mean ± std. dev. of 7 runs, 1000000 loops each)\n",
      "530 ns ± 77.5 ns per loop (mean ± std. dev. of 7 runs, 1000000 loops each)\n",
      "367 ns ± 7.64 ns per loop (mean ± std. dev. of 7 runs, 1000000 loops each)\n"
     ]
    }
   ],
   "source": [
    "%timeit Levenshtein.distance('eat', 'rat')\n",
    "%timeit Levenshtein.distance('knight', 'knigth')\n",
    "%timeit Levenshtein.distance('unimaginable', 'imagination')"
   ]
  },
  {
   "cell_type": "code",
   "execution_count": 9,
   "metadata": {},
   "outputs": [
    {
     "name": "stdout",
     "output_type": "stream",
     "text": [
      "12.7 µs ± 779 ns per loop (mean ± std. dev. of 7 runs, 100000 loops each)\n",
      "49 µs ± 3.04 µs per loop (mean ± std. dev. of 7 runs, 10000 loops each)\n",
      "143 µs ± 15.1 µs per loop (mean ± std. dev. of 7 runs, 10000 loops each)\n"
     ]
    }
   ],
   "source": [
    "%timeit levenshtein_distance('eat', 'rat')\n",
    "%timeit levenshtein_distance('knight', 'knigth')\n",
    "%timeit levenshtein_distance('unimaginable', 'imagination')"
   ]
  },
  {
   "cell_type": "markdown",
   "metadata": {},
   "source": [
    "### Vectorization"
   ]
  },
  {
   "cell_type": "code",
   "execution_count": 10,
   "metadata": {},
   "outputs": [],
   "source": [
    "def levenshtein_distance_vec(a: np.ndarray, b:np.ndarray) -> np.ndarray:\n",
    "    m, n, k = len(a), len(b), b.shape[1]\n",
    "    d = np.zeros((m+1, n+1, k), dtype=np.uint16)   # d[i,j] = levenshtein_distance\n",
    "\n",
    "    for i in range(n+1): d[i,0] = i\n",
    "    for i in range(m+1): d[0,i] = i\n",
    "\n",
    "    for j in range(1,n+1):\n",
    "        for i in range(1, m+1):\n",
    "            cost = a[i-1] != b[j-1]\n",
    "            d[i,j] = np.min([d[i-1] + cost,\n",
    "                            d[i,j] + 1,\n",
    "                            d[i-1, j] + 1], axis=0)\n",
    "\n",
    "    return d[m,n]"
   ]
  },
  {
   "cell_type": "code",
   "execution_count": 11,
   "metadata": {},
   "outputs": [
    {
     "data": {
      "application/vnd.jupyter.widget-view+json": {
       "model_id": "afb7f26619884503b2e6a88c2be07714",
       "version_major": 2,
       "version_minor": 0
      },
      "text/plain": [
       "interactive(children=(Text(value='', description='input_text'), Output()), _dom_classes=('widget-interact',))"
      ]
     },
     "metadata": {},
     "output_type": "display_data"
    },
    {
     "ename": "TypeError",
     "evalue": "perf_counter() takes no arguments (1 given)",
     "output_type": "error",
     "traceback": [
      "\u001b[1;31m---------------------------------------------------------------------------\u001b[0m",
      "\u001b[1;31mTypeError\u001b[0m                                 Traceback (most recent call last)",
      "\u001b[1;32m~\\AppData\\Local\\Temp/ipykernel_6468/1546908934.py\u001b[0m in \u001b[0;36m<module>\u001b[1;34m\u001b[0m\n\u001b[0;32m      8\u001b[0m \u001b[1;33m\u001b[0m\u001b[0m\n\u001b[0;32m      9\u001b[0m \u001b[1;33m@\u001b[0m\u001b[0mtimer\u001b[0m\u001b[1;33m\u001b[0m\u001b[1;33m\u001b[0m\u001b[0m\n\u001b[1;32m---> 10\u001b[1;33m \u001b[1;33m@\u001b[0m\u001b[0mipywidgets\u001b[0m\u001b[1;33m.\u001b[0m\u001b[0minteract\u001b[0m\u001b[1;33m(\u001b[0m\u001b[0minput_text\u001b[0m\u001b[1;33m=\u001b[0m\u001b[1;34m''\u001b[0m\u001b[1;33m)\u001b[0m\u001b[1;33m\u001b[0m\u001b[1;33m\u001b[0m\u001b[0m\n\u001b[0m\u001b[0;32m     11\u001b[0m \u001b[1;32mdef\u001b[0m \u001b[0minteract_cities_levenshtein_vec\u001b[0m\u001b[1;33m(\u001b[0m\u001b[0minput_text\u001b[0m\u001b[1;33m)\u001b[0m\u001b[1;33m:\u001b[0m\u001b[1;33m\u001b[0m\u001b[1;33m\u001b[0m\u001b[0m\n\u001b[0;32m     12\u001b[0m     \u001b[0ma_vec\u001b[0m \u001b[1;33m=\u001b[0m \u001b[0mnp\u001b[0m\u001b[1;33m.\u001b[0m\u001b[0masarray\u001b[0m\u001b[1;33m(\u001b[0m\u001b[1;33m[\u001b[0m\u001b[0mord\u001b[0m\u001b[1;33m(\u001b[0m\u001b[0mc\u001b[0m\u001b[1;33m)\u001b[0m \u001b[1;32mfor\u001b[0m \u001b[0mc\u001b[0m \u001b[1;32min\u001b[0m \u001b[0minput_text\u001b[0m\u001b[1;33m]\u001b[0m\u001b[1;33m)\u001b[0m\u001b[1;33m\u001b[0m\u001b[1;33m\u001b[0m\u001b[0m\n",
      "\u001b[1;31mTypeError\u001b[0m: perf_counter() takes no arguments (1 given)"
     ]
    }
   ],
   "source": [
    "len_to_cities = {}\n",
    "len_to_mat = {}\n",
    "for w in cities: len_to_cities.setdefault(len(w), []).append(w)\n",
    "for n, ws in len_to_cities.items():\n",
    "    for w in ws:\n",
    "        for c in w:\n",
    "            len_to_mat[n]=np.asarray(ord(c))\n",
    "\n",
    "@timer\n",
    "@ipywidgets.interact(input_text='')\n",
    "def interact_cities_levenshtein_vec(input_text):\n",
    "    a_vec = np.asarray([ord(c) for c in input_text])\n",
    "    n = len(input_text)\n",
    "    xs, ys = [], []\n",
    "\n",
    "    for m, b_mat in len_to_mat.items():\n",
    "        if abs(m-n) > 5: continue\n",
    "        dist = levenshtein_distance_vec(a_vec, b_mat)\n",
    "        scores = 1.0 - dist/max(n,m)\n",
    "        xs.extend(len_to_cities[m])\n",
    "        ys.extend(scores)\n",
    "\n",
    "    if not input_text: return\n",
    "    for score, city in list(sorted(zip(ys,xs), reverse=True))[:10]:\n",
    "        print(f'{city:60}{score:3.2f}')"
   ]
  },
  {
   "cell_type": "code",
   "execution_count": null,
   "metadata": {},
   "outputs": [],
   "source": []
  },
  {
   "cell_type": "code",
   "execution_count": null,
   "metadata": {},
   "outputs": [],
   "source": []
  },
  {
   "cell_type": "code",
   "execution_count": null,
   "metadata": {},
   "outputs": [],
   "source": []
  },
  {
   "cell_type": "code",
   "execution_count": null,
   "metadata": {},
   "outputs": [],
   "source": []
  },
  {
   "cell_type": "code",
   "execution_count": null,
   "metadata": {},
   "outputs": [],
   "source": []
  },
  {
   "cell_type": "code",
   "execution_count": null,
   "metadata": {},
   "outputs": [],
   "source": []
  },
  {
   "cell_type": "code",
   "execution_count": null,
   "metadata": {},
   "outputs": [],
   "source": []
  },
  {
   "cell_type": "code",
   "execution_count": null,
   "metadata": {},
   "outputs": [],
   "source": []
  },
  {
   "cell_type": "code",
   "execution_count": null,
   "metadata": {},
   "outputs": [],
   "source": []
  },
  {
   "cell_type": "code",
   "execution_count": null,
   "metadata": {},
   "outputs": [],
   "source": []
  },
  {
   "cell_type": "code",
   "execution_count": null,
   "metadata": {},
   "outputs": [],
   "source": []
  },
  {
   "cell_type": "code",
   "execution_count": null,
   "metadata": {},
   "outputs": [],
   "source": []
  },
  {
   "cell_type": "code",
   "execution_count": null,
   "metadata": {},
   "outputs": [],
   "source": []
  },
  {
   "cell_type": "code",
   "execution_count": null,
   "metadata": {},
   "outputs": [],
   "source": []
  },
  {
   "cell_type": "code",
   "execution_count": null,
   "metadata": {},
   "outputs": [],
   "source": []
  },
  {
   "cell_type": "code",
   "execution_count": null,
   "metadata": {},
   "outputs": [],
   "source": []
  },
  {
   "cell_type": "code",
   "execution_count": null,
   "metadata": {},
   "outputs": [],
   "source": []
  },
  {
   "cell_type": "code",
   "execution_count": null,
   "metadata": {},
   "outputs": [],
   "source": []
  },
  {
   "cell_type": "code",
   "execution_count": null,
   "metadata": {},
   "outputs": [],
   "source": []
  },
  {
   "cell_type": "code",
   "execution_count": null,
   "metadata": {},
   "outputs": [],
   "source": []
  },
  {
   "cell_type": "code",
   "execution_count": null,
   "metadata": {},
   "outputs": [],
   "source": []
  },
  {
   "cell_type": "code",
   "execution_count": null,
   "metadata": {},
   "outputs": [],
   "source": []
  },
  {
   "cell_type": "code",
   "execution_count": null,
   "metadata": {},
   "outputs": [],
   "source": []
  },
  {
   "cell_type": "code",
   "execution_count": null,
   "metadata": {},
   "outputs": [],
   "source": []
  },
  {
   "cell_type": "code",
   "execution_count": null,
   "metadata": {},
   "outputs": [],
   "source": []
  },
  {
   "cell_type": "code",
   "execution_count": null,
   "metadata": {},
   "outputs": [],
   "source": []
  },
  {
   "cell_type": "code",
   "execution_count": null,
   "metadata": {},
   "outputs": [],
   "source": []
  },
  {
   "cell_type": "code",
   "execution_count": null,
   "metadata": {},
   "outputs": [],
   "source": []
  },
  {
   "cell_type": "code",
   "execution_count": null,
   "metadata": {},
   "outputs": [],
   "source": []
  },
  {
   "cell_type": "code",
   "execution_count": null,
   "metadata": {},
   "outputs": [],
   "source": []
  },
  {
   "cell_type": "code",
   "execution_count": null,
   "metadata": {},
   "outputs": [],
   "source": []
  },
  {
   "cell_type": "code",
   "execution_count": null,
   "metadata": {},
   "outputs": [],
   "source": []
  }
 ],
 "metadata": {
  "interpreter": {
   "hash": "04635d289a519a1410467dd0afb0db42f9184808881ca68b2eb5a687a20a5a94"
  },
  "kernelspec": {
   "display_name": "Python 3.7.9 64-bit (system)",
   "language": "python",
   "name": "python3"
  },
  "language_info": {
   "codemirror_mode": {
    "name": "ipython",
    "version": 3
   },
   "file_extension": ".py",
   "mimetype": "text/x-python",
   "name": "python",
   "nbconvert_exporter": "python",
   "pygments_lexer": "ipython3",
   "version": "3.7.9"
  },
  "orig_nbformat": 4
 },
 "nbformat": 4,
 "nbformat_minor": 2
}
